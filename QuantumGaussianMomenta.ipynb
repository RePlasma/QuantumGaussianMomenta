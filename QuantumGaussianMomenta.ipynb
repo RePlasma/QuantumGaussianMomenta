{
 "cells": [
  {
   "cell_type": "markdown",
   "metadata": {},
   "source": [
    "# Quantum Gaussian Momenta\n",
    "\n",
    "Retrieving momenta (mean and variance) of gaussian distribution embedded in amplitudes ```qml.AmplitudeEmbedding``` in PennyLane. The operators for the momenta are built from Pauli gates through ```qml.pauli_decompose```\n",
    "\n",
    "See documentation https://docs.pennylane.ai/en/stable/\n",
    "\n",
    "Notebook by: Óscar Amaro (2023)"
   ]
  },
  {
   "cell_type": "code",
   "execution_count": 143,
   "metadata": {},
   "outputs": [
    {
     "name": "stdout",
     "output_type": "stream",
     "text": [
      "numpy==1.23.5\n",
      "pennylane==0.32.0\n"
     ]
    }
   ],
   "source": [
    "import numpy as np\n",
    "from numpy import sqrt, log, exp\n",
    "import matplotlib.pyplot as plt\n",
    "import pennylane as qml\n",
    "\n",
    "print('\\n'.join(f'{m.__name__}=={m.__version__}' for m in globals().values() if getattr(m, '__version__', None)))"
   ]
  },
  {
   "cell_type": "code",
   "execution_count": 144,
   "metadata": {},
   "outputs": [
    {
     "name": "stdout",
     "output_type": "stream",
     "text": [
      "\t average variance\n",
      "theory 0.2 0.09\n",
      "numpy 0.19706667331318273 0.08753021521861419\n",
      "Pennylane 0.1999487355481123 0.08991616387524605\n"
     ]
    },
    {
     "data": {
      "image/png": "[encoded data removed]",
      "text/plain": [
       "<Figure size 432x288 with 1 Axes>"
      ]
     },
     "metadata": {
      "needs_background": "light"
     },
     "output_type": "display_data"
    }
   ],
   "source": [
    "def quantumgaussian(mu=0, sigma=0.2, nqubits = 5, xmin = -1, xmax = 1):\n",
    "    xlst = np.linspace(xmin,xmax,2**nqubits)\n",
    "    ylst = exp(-0.5*(xlst-mu)**2/sigma**2)\n",
    "    ylst = ylst/sqrt(np.sum(ylst**2))\n",
    "\n",
    "    # operator for average x: requires nqubits local Z operators\n",
    "    mat = np.zeros((2**nqubits,2**nqubits))\n",
    "    for i in range(2**nqubits):\n",
    "        mat[i,i] = xmin + i*(xmax-xmin)/(2**nqubits-1)\n",
    "    op_avg = qml.pauli_decompose(mat)\n",
    "\n",
    "    # operator for average x^2: requires ~2 nqubits (Z and ZZ) operators\n",
    "    mat2 = np.zeros((2**nqubits,2**nqubits))\n",
    "    for i in range(2**nqubits):\n",
    "        mat2[i,i] = (xmin + i*(xmax-xmin)/(2**nqubits-1))**2\n",
    "    op_var = qml.pauli_decompose(mat2)\n",
    "\n",
    "    dev = qml.device('default.qubit', wires=nqubits)\n",
    "\n",
    "    @qml.qnode(dev)\n",
    "    def circuit(f=None):\n",
    "        qml.AmplitudeEmbedding(features=f, wires=range(nqubits))\n",
    "        return qml.expval(op_avg), qml.expval(op_var), qml.probs(wires=[i for i in range(nqubits)])\n",
    "\n",
    "    print(\"\\t average variance\")\n",
    "    print(\"theory\", mu, sigma**2)\n",
    "    avgNP = np.sum(ylst*xlst)/np.sum(ylst); varNP = np.sum(ylst*(xlst-avgNP)**2)/np.sum(ylst)\n",
    "    print(\"numpy\", avgNP, varNP )\n",
    "    avg, var, probs = circuit(f=ylst)\n",
    "    print(\"Pennylane\", avg, 2*(var-avg**2) ) # why x2?\n",
    "\n",
    "    plt.plot(xlst, ylst**2, label='numpy')\n",
    "    plt.plot(xlst, probs, 'o', label=r'qml.probs')\n",
    "    plt.xlabel(r'x')\n",
    "    plt.ylabel(r'probs of gaussian')\n",
    "    plt.legend()\n",
    "    plt.show()\n",
    "\n",
    "quantumgaussian(mu=0.2, sigma=0.3, nqubits=6)"
   ]
  },
  {
   "cell_type": "code",
   "execution_count": null,
   "metadata": {},
   "outputs": [],
   "source": []
  }
 ],
 "metadata": {
  "kernelspec": {
   "display_name": "QPPQ",
   "language": "python",
   "name": "qppq"
  },
  "language_info": {
   "codemirror_mode": {
    "name": "ipython",
    "version": 3
   },
   "file_extension": ".py",
   "mimetype": "text/x-python",
   "name": "python",
   "nbconvert_exporter": "python",
   "pygments_lexer": "ipython3",
   "version": "3.8.13"
  }
 },
 "nbformat": 4,
 "nbformat_minor": 4
}
